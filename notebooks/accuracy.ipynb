{
 "cells": [
  {
   "cell_type": "code",
   "execution_count": 1,
   "metadata": {
    "collapsed": true
   },
   "outputs": [],
   "source": [
    "import json"
   ]
  },
  {
   "cell_type": "code",
   "execution_count": 17,
   "metadata": {
    "collapsed": false
   },
   "outputs": [],
   "source": [
    "with open('distances_bicubic.json', 'r') as f:\n",
    "    distances_bicubic = json.load(f)\n",
    "\n",
    "with open('distances_bilinear_interpolation.json', 'r') as f:\n",
    "    distances_bilinear_interpolation = json.load(f)\n",
    "\n",
    "with open('distances_nearest.json', 'r') as f:\n",
    "    distances_nearest = json.load(f)\n",
    "\n",
    "with open('distances_SR.json', 'r') as f:\n",
    "    distances_sr = json.load(f)\n",
    "    \n",
    "with open('fathers_day.json', 'r') as f:\n",
    "    answers = json.load(f)"
   ]
  },
  {
   "cell_type": "code",
   "execution_count": 18,
   "metadata": {
    "collapsed": false
   },
   "outputs": [],
   "source": [
    "files_list = answers.keys()\n",
    "files_count = len(distances_bicubic.keys()) * len(files_list)\n"
   ]
  },
  {
   "cell_type": "code",
   "execution_count": 19,
   "metadata": {
    "collapsed": false
   },
   "outputs": [],
   "source": [
    "def count_error(distances):\n",
    "    error_counter = 0\n",
    "    error_per_scale = {}\n",
    "    for sub_res in distances.keys():\n",
    "        error_per_scale[sub_res] = 0\n",
    "        for file in files_list: \n",
    "            file_answers = distances[sub_res][file]\n",
    "            file_answer = min([list(i.values())[0] for i in file_answers])\n",
    "            file_answer = [list(i.keys())[0] for i in file_answers if list(i.values())[0] == file_answer]\n",
    "            if answers[file] != file_answer[0]:\n",
    "                error_counter += 1\n",
    "                error_per_scale[sub_res] += 1\n",
    "    return error_counter, error_per_scale"
   ]
  },
  {
   "cell_type": "code",
   "execution_count": 20,
   "metadata": {
    "collapsed": false
   },
   "outputs": [],
   "source": [
    "def get_accuracy(error_counter, error_per_scale):\n",
    "    scale_accuracy = {}\n",
    "    for scale_ in error_per_scale.keys():\n",
    "        scale_accuracy[scale_] = 1. - error_per_scale[scale_] / len(files_list)\n",
    "    mean_accuracy = 1. - error_counter / files_count\n",
    "    return scale_accuracy, mean_accuracy"
   ]
  },
  {
   "cell_type": "code",
   "execution_count": 21,
   "metadata": {
    "collapsed": false
   },
   "outputs": [],
   "source": [
    "error_counter, error_per_scale = count_error(distances_bicubic)\n",
    "cubic_scale_accuracy, cubic_mean_accuracy = get_accuracy(error_counter, error_per_scale)"
   ]
  },
  {
   "cell_type": "code",
   "execution_count": 22,
   "metadata": {
    "collapsed": false
   },
   "outputs": [],
   "source": [
    "error_counter, error_per_scale = count_error(distances_nearest)\n",
    "nearest_scale_accuracy, nearest_mean_accuracy = get_accuracy(error_counter, error_per_scale)"
   ]
  },
  {
   "cell_type": "code",
   "execution_count": 23,
   "metadata": {
    "collapsed": false
   },
   "outputs": [],
   "source": [
    "error_counter, error_per_scale = count_error(distances_bilinear_interpolation)\n",
    "bilinear_scale_accuracy, bilinear_mean_accuracy = get_accuracy(error_counter, error_per_scale)"
   ]
  },
  {
   "cell_type": "code",
   "execution_count": 24,
   "metadata": {
    "collapsed": true
   },
   "outputs": [],
   "source": [
    "error_counter, error_per_scale = count_error(distances_sr)\n",
    "sr_scale_accuracy, sr_mean_accuracy = get_accuracy(error_counter, error_per_scale)"
   ]
  },
  {
   "cell_type": "code",
   "execution_count": 50,
   "metadata": {
    "collapsed": true
   },
   "outputs": [],
   "source": [
    "def get_accuracy_sorted_list(scale_accuracy, folder_name):\n",
    "    ac_list = list(scale_accuracy.keys())\n",
    "    ac_list = [int(i.split(\"/\")[-1]) for i in ac_list]\n",
    "    ac_list = sorted(ac_list)\n",
    "    ac_list = [scale_accuracy[folder_name + str(i)] for i in ac_list ]\n",
    "    return ac_list\n"
   ]
  },
  {
   "cell_type": "code",
   "execution_count": 25,
   "metadata": {
    "collapsed": false
   },
   "outputs": [
    {
     "data": {
      "text/plain": [
       "{'./data/fathers_day_data/10': 0.33870967741935487,\n",
       " './data/fathers_day_data/100': 0.8064516129032258,\n",
       " './data/fathers_day_data/120': 0.8225806451612903,\n",
       " './data/fathers_day_data/15': 0.456989247311828,\n",
       " './data/fathers_day_data/150': 0.8118279569892473,\n",
       " './data/fathers_day_data/180': 0.8172043010752688,\n",
       " './data/fathers_day_data/20': 0.553763440860215,\n",
       " './data/fathers_day_data/200': 0.8225806451612903,\n",
       " './data/fathers_day_data/224': 0.8172043010752688,\n",
       " './data/fathers_day_data/30': 0.6236559139784946,\n",
       " './data/fathers_day_data/5': 0.4032258064516129,\n",
       " './data/fathers_day_data/50': 0.6881720430107527,\n",
       " './data/fathers_day_data/80': 0.7473118279569892}"
      ]
     },
     "execution_count": 25,
     "metadata": {},
     "output_type": "execute_result"
    }
   ],
   "source": [
    "\n",
    "cubic_scale_accuracy"
   ]
  },
  {
   "cell_type": "code",
   "execution_count": 26,
   "metadata": {
    "collapsed": false
   },
   "outputs": [
    {
     "data": {
      "text/plain": [
       "{'./data/fathers_day_data/10': 0.048387096774193505,\n",
       " './data/fathers_day_data/100': 0.8494623655913979,\n",
       " './data/fathers_day_data/120': 0.8333333333333334,\n",
       " './data/fathers_day_data/15': 0.10215053763440862,\n",
       " './data/fathers_day_data/150': 0.8709677419354839,\n",
       " './data/fathers_day_data/180': 0.8225806451612903,\n",
       " './data/fathers_day_data/20': 0.3709677419354839,\n",
       " './data/fathers_day_data/200': 0.8494623655913979,\n",
       " './data/fathers_day_data/224': 0.8602150537634409,\n",
       " './data/fathers_day_data/30': 0.521505376344086,\n",
       " './data/fathers_day_data/5': 0.048387096774193505,\n",
       " './data/fathers_day_data/50': 0.6612903225806452,\n",
       " './data/fathers_day_data/80': 0.7473118279569892}"
      ]
     },
     "execution_count": 26,
     "metadata": {},
     "output_type": "execute_result"
    }
   ],
   "source": [
    "nearest_scale_accuracy"
   ]
  },
  {
   "cell_type": "code",
   "execution_count": 27,
   "metadata": {
    "collapsed": false
   },
   "outputs": [
    {
     "data": {
      "text/plain": [
       "{'./test_2/10': 0.4247311827956989,\n",
       " './test_2/100': 0.7526881720430108,\n",
       " './test_2/120': 0.7634408602150538,\n",
       " './test_2/15': 0.489247311827957,\n",
       " './test_2/150': 0.7956989247311828,\n",
       " './test_2/180': 0.7956989247311828,\n",
       " './test_2/20': 0.5268817204301075,\n",
       " './test_2/200': 0.8225806451612903,\n",
       " './test_2/224': 0.8118279569892473,\n",
       " './test_2/30': 0.586021505376344,\n",
       " './test_2/5': 0.33870967741935487,\n",
       " './test_2/50': 0.6666666666666667,\n",
       " './test_2/80': 0.7258064516129032}"
      ]
     },
     "execution_count": 27,
     "metadata": {},
     "output_type": "execute_result"
    }
   ],
   "source": [
    "bilinear_scale_accuracy"
   ]
  },
  {
   "cell_type": "code",
   "execution_count": 48,
   "metadata": {
    "collapsed": false
   },
   "outputs": [
    {
     "data": {
      "text/plain": [
       "{'./SR/10': 0.15591397849462363,\n",
       " './SR/100': 0.5591397849462365,\n",
       " './SR/120': 0.6021505376344086,\n",
       " './SR/15': 0.18279569892473113,\n",
       " './SR/150': 0.5698924731182795,\n",
       " './SR/180': 0.5913978494623655,\n",
       " './SR/20': 0.28494623655913975,\n",
       " './SR/200': 0.6021505376344086,\n",
       " './SR/224': 0.5913978494623655,\n",
       " './SR/30': 0.3978494623655914,\n",
       " './SR/5': 0.20430107526881724,\n",
       " './SR/50': 0.5806451612903225,\n",
       " './SR/80': 0.532258064516129}"
      ]
     },
     "execution_count": 48,
     "metadata": {},
     "output_type": "execute_result"
    }
   ],
   "source": [
    "sr_scale_accuracy"
   ]
  },
  {
   "cell_type": "code",
   "execution_count": 52,
   "metadata": {
    "collapsed": false
   },
   "outputs": [],
   "source": [
    "sr_list = get_accuracy_sorted_list(scale_accuracy=sr_scale_accuracy, folder_name=\"./SR/\")\n",
    "nearest_list = get_accuracy_sorted_list(scale_accuracy=nearest_scale_accuracy, folder_name=\"./data/fathers_day_data/\")\n",
    "linear_list = get_accuracy_sorted_list(scale_accuracy=bilinear_scale_accuracy, folder_name=\"./test_2/\")\n",
    "bicubic_list = get_accuracy_sorted_list(scale_accuracy=cubic_scale_accuracy, folder_name=\"./data/fathers_day_data/\")"
   ]
  },
  {
   "cell_type": "code",
   "execution_count": 29,
   "metadata": {
    "collapsed": false
   },
   "outputs": [],
   "source": [
    "import matplotlib.pyplot as plt\n",
    "%matplotlib inline\n",
    "import numpy as np"
   ]
  },
  {
   "cell_type": "code",
   "execution_count": 58,
   "metadata": {
    "collapsed": false
   },
   "outputs": [
    {
     "data": {
      "image/png": "[encoded data removed]",
      "text/plain": [
       "<matplotlib.figure.Figure at 0x107a52630>"
      ]
     },
     "metadata": {},
     "output_type": "display_data"
    }
   ],
   "source": [
    "x1 = list(distances_bicubic.keys())\n",
    "x1 = [float(i.split(\"/\")[-1]) for i in x1]\n",
    "x1 = sorted(x1)\n",
    "x = np.arange(len(x1))\n",
    "\n",
    "plt.figure(figsize=(3000/my_dpi, 1500/my_dpi), dpi=255)\n",
    "\n",
    "plt.plot(x1, linear_list, 'r--', x1, bicubic_list, 'b--', x1, nearest_list, 'g--', x1, sr_list, 'k-')\n",
    "plt.plot(x1, linear_list, 'ro', x1, bicubic_list, 'bo', x1, nearest_list, 'go', x1, sr_list, 'ko')\n",
    "\n",
    "colours = ['r', 'b', 'g', 'k']\n",
    "p1 = plt.Rectangle((0, 0), 0.1, 0.1, fc=colours[0])\n",
    "p2 = plt.Rectangle((0, 0), 0.1, 0.1, fc=colours[1])\n",
    "p3 = plt.Rectangle((0, 0), 0.1, 0.1, fc=colours[2])\n",
    "p4 = plt.Rectangle((0, 0), 0.1, 0.1, fc=colours[3])\n",
    "\n",
    "plt.legend((p1, p2, p3, p4), ('bilinear', 'bicubuc', 'nearest', 'super-resolution'), loc='best')\n",
    "plt.show()"
   ]
  },
  {
   "cell_type": "code",
   "execution_count": 54,
   "metadata": {
    "collapsed": false
   },
   "outputs": [
    {
     "data": {
      "text/plain": [
       "0.5835401157981803"
      ]
     },
     "execution_count": 54,
     "metadata": {},
     "output_type": "execute_result"
    }
   ],
   "source": [
    "nearest_mean_accuracy"
   ]
  },
  {
   "cell_type": "code",
   "execution_count": 55,
   "metadata": {
    "collapsed": false
   },
   "outputs": [
    {
     "data": {
      "text/plain": [
       "0.6538461538461539"
      ]
     },
     "execution_count": 55,
     "metadata": {},
     "output_type": "execute_result"
    }
   ],
   "source": [
    "bilinear_mean_accuracy"
   ]
  },
  {
   "cell_type": "code",
   "execution_count": 56,
   "metadata": {
    "collapsed": false
   },
   "outputs": [
    {
     "data": {
      "text/plain": [
       "0.6699751861042184"
      ]
     },
     "execution_count": 56,
     "metadata": {},
     "output_type": "execute_result"
    }
   ],
   "source": [
    "cubic_mean_accuracy"
   ]
  },
  {
   "cell_type": "code",
   "execution_count": 57,
   "metadata": {
    "collapsed": false
   },
   "outputs": [
    {
     "data": {
      "text/plain": [
       "0.45037220843672454"
      ]
     },
     "execution_count": 57,
     "metadata": {},
     "output_type": "execute_result"
    }
   ],
   "source": [
    "sr_mean_accuracy"
   ]
  }
 ],
 "metadata": {
  "kernelspec": {
   "display_name": "Python 3",
   "language": "python",
   "name": "python3"
  },
  "language_info": {
   "codemirror_mode": {
    "name": "ipython",
    "version": 3
   },
   "file_extension": ".py",
   "mimetype": "text/x-python",
   "name": "python",
   "nbconvert_exporter": "python",
   "pygments_lexer": "ipython3",
   "version": "3.5.2"
  }
 },
 "nbformat": 4,
 "nbformat_minor": 0
}
